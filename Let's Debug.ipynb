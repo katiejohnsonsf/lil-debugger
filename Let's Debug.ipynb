{
 "cells": [
  {
   "cell_type": "markdown",
   "metadata": {},
   "source": [
    "# Let's Debug: Basic Debugging Problems for Python Practice\n",
    "\n",
    "The impetus of this exercise is to give you an opportunity to practice debugging simple functions to start to notice patterns and build the muscle memory, so-to-speak, of breaking down functions into smaller pieces."
   ]
  },
  {
   "cell_type": "markdown",
   "metadata": {},
   "source": [
    "### Problem 1"
   ]
  },
  {
   "cell_type": "code",
   "execution_count": 1,
   "metadata": {},
   "outputs": [],
   "source": [
    "# INPUT FOR TESTING FUNCTION\n",
    "w = ['Hey', 'Look', 'At', 'These', 'Words']\n",
    "\n",
    "# FUNCTION TO TEST\n",
    "def lowercase_words(words):\n",
    "    \"\"\"\n",
    "    Function takes in a list of words and\n",
    "    returns a new list of words that have\n",
    "    been set to have all letters lowercase.\n",
    "    \"\"\"\n",
    "    lowercased = []\n",
    "    for i in words:\n",
    "        lowercased.append(words[i].lower())\n",
    "    return lowercased"
   ]
  },
  {
   "cell_type": "markdown",
   "metadata": {},
   "source": [
    "### Problem 2"
   ]
  },
  {
   "cell_type": "code",
   "execution_count": 27,
   "metadata": {},
   "outputs": [],
   "source": [
    "# INPUT FOR TESTING FUNCTION\n",
    "fruit = {\n",
    "    'apples': 10,\n",
    "    'bananas': 20,\n",
    "    'avocado': 5,\n",
    "    'tomato': 27\n",
    "}\n",
    "\n",
    "# FUNCTION TO TEST\n",
    "def get_the_fruit(fruits):\n",
    "    \"\"\"\n",
    "    Function takes in a dictionary of fruits\n",
    "    and their associated counts. It should\n",
    "    return ONLY THE NAME of the fruit with \n",
    "    the highest count.\n",
    "    \"\"\"\n",
    "    \n",
    "    highest_count = 0\n",
    "    most_fruit = ''\n",
    "    \n",
    "    for k, v in fruits:\n",
    "        if v > highest_count:\n",
    "            most_fruit = fruit[k]\n",
    "            highest_count = fruit[v]\n",
    "        else:\n",
    "            pass\n",
    "    \n",
    "    return most_fruit"
   ]
  },
  {
   "cell_type": "markdown",
   "metadata": {},
   "source": [
    "### Problem 3"
   ]
  },
  {
   "cell_type": "code",
   "execution_count": 26,
   "metadata": {},
   "outputs": [],
   "source": [
    "import pandas as p\n",
    "\n",
    "# INPUT FOR TESTING FUNCTION\n",
    "fruit_df = pd.DataFrame({\n",
    "    'count': [20, 15, 99, 12],\n",
    "}, index = ['apple', 'banana', 'tomato', 'avocado'])\n",
    "\n",
    "#FUNCTION TO TEST\n",
    "def convert_series_to_list(fruits, column):\n",
    "    \"\"\"\n",
    "    Takes a Pandas DataFrame and column name as a\n",
    "    string. Function should return the column or \n",
    "    Pandas Series as a list.\n",
    "    \"\"\"\n",
    "    series_list = column.list()\n",
    "    return series_list"
   ]
  },
  {
   "cell_type": "markdown",
   "metadata": {},
   "source": [
    "### Problem 4"
   ]
  },
  {
   "cell_type": "code",
   "execution_count": 36,
   "metadata": {},
   "outputs": [],
   "source": [
    "# INPUT FOR TESTING FUNCTION\n",
    "bus_path = [[3,0],[9,1],[4,10],[12,2],[6,1],[7,10]]\n",
    "\n",
    "#FUNCTION TO TEST\n",
    "def number(bus_stops):\n",
    "    \"\"\"\n",
    "    Takes a list of lists where the first element\n",
    "    of each sub list is how many people get on the bus,\n",
    "    and the second element is how many people get off.\n",
    "    \n",
    "    Should return the total number of people left on the\n",
    "    bus after all stops are completed.\n",
    "    \"\"\"\n",
    "    total_on_bus = bus_stops[0][0]\n",
    "    counter = 1\n",
    "    \n",
    "    while counter <= len(bus_stops):\n",
    "        total_on_bus += bus_stops[counter][0]\n",
    "        total_on_bus -= bus_stops[counter][1]\n",
    "        counter += 1\n",
    "    \n",
    "    return total_on_bus\n",
    "\n",
    "# Should return 17"
   ]
  }
 ],
 "metadata": {
  "kernelspec": {
   "display_name": "Python 3",
   "language": "python",
   "name": "python3"
  },
  "language_info": {
   "codemirror_mode": {
    "name": "ipython",
    "version": 3
   },
   "file_extension": ".py",
   "mimetype": "text/x-python",
   "name": "python",
   "nbconvert_exporter": "python",
   "pygments_lexer": "ipython3",
   "version": "3.7.3"
  }
 },
 "nbformat": 4,
 "nbformat_minor": 2
}
